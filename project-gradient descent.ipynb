{
 "cells": [
  {
   "cell_type": "code",
   "execution_count": 93,
   "metadata": {},
   "outputs": [
    {
     "data": {
      "text/plain": [
       "(379, 14)"
      ]
     },
     "execution_count": 93,
     "metadata": {},
     "output_type": "execute_result"
    }
   ],
   "source": [
    "import numpy as np\n",
    "from sklearn import preprocessing\n",
    "from sklearn import model_selection\n",
    "data=np.genfromtxt ('training_boston_x_y_train.csv',delimiter=\",\")\n",
    "test_data=np.loadtxt('test_boston_x_test.csv', delimiter=',')\n",
    "data.shape"
   ]
  },
  {
   "cell_type": "code",
   "execution_count": 94,
   "metadata": {},
   "outputs": [
    {
     "data": {
      "text/plain": [
       "(127, 13)"
      ]
     },
     "execution_count": 94,
     "metadata": {},
     "output_type": "execute_result"
    }
   ],
   "source": [
    "test_data.shape\n"
   ]
  },
  {
   "cell_type": "code",
   "execution_count": 95,
   "metadata": {},
   "outputs": [],
   "source": [
    "def step_gradient(points,learning_rate,M):\n",
    "    N=points.shape[0]\n",
    "    num_col = points.shape[1]\n",
    "    new_M=np.zeros(num_col)\n",
    "    for i in range(N):\n",
    "        x = points[i, 0:num_col-1]\n",
    "        x = np.append(x, 1)\n",
    "        y=points[i,num_col-1]\n",
    "        for j in range(num_col):\n",
    "            new_M[j] += (-2/N) * (y - (M * x).sum()) * x[j]\n",
    "        M = M - (learning_rate * new_M)\n",
    "    return M\n",
    "    "
   ]
  },
  {
   "cell_type": "code",
   "execution_count": 96,
   "metadata": {},
   "outputs": [],
   "source": [
    "def gd(points, learning_rate, num_iteration):\n",
    "    num_col = points.shape[1]\n",
    "    M = np.zeros(num_col)\n",
    "    \n",
    "    for i in range(num_iteration):\n",
    "        M = step_gradient(points, learning_rate, M)\n",
    "       \n",
    "    print(i, \"Cost= \", cost(points, M))\n",
    "    return M\n",
    "        "
   ]
  },
  {
   "cell_type": "code",
   "execution_count": 97,
   "metadata": {},
   "outputs": [],
   "source": [
    "def cost(points, M):\n",
    "    total_cost = 0\n",
    "    \n",
    "    N = points.shape[0]\n",
    "    num_col = points.shape[1]\n",
    "    \n",
    "    for i in range(N):\n",
    "        x = points[i,0:num_col-1]\n",
    "        x = np.append(x, 1)\n",
    "        y = points[i,num_col-1]\n",
    "        total_cost +=(1/N) * (y - (M * x).sum()) ** 2\n",
    "        \n",
    "    \n",
    "    return total_cost"
   ]
  },
  {
   "cell_type": "code",
   "execution_count": 98,
   "metadata": {},
   "outputs": [],
   "source": [
    "def run():\n",
    "    #data=np.genfromtxt ('training_boston_x_y_train.csv',delimiter=\",\")\n",
    "    learning_rate=0.001\n",
    "    num_iteration=1000\n",
    "    #m,c=gd(data,learnning_rate,num_iteration)\n",
    "    m=gd(data,learning_rate,num_iteration)\n",
    "    return m[0:13],m[13]"
   ]
  },
  {
   "cell_type": "code",
   "execution_count": 99,
   "metadata": {},
   "outputs": [
    {
     "name": "stdout",
     "output_type": "stream",
     "text": [
      "999 Cost=  23.61073972081222\n",
      "[-1.06206957  0.64333652 -0.41312155  0.67754003 -1.91362128  2.46619129\n",
      " -0.09073784 -2.89737682  2.22477765 -1.396756   -2.06566197  0.5972534\n",
      " -4.0064111 ] 22.65160044330525\n"
     ]
    }
   ],
   "source": [
    "m,c=run()\n",
    "print(m,c)    "
   ]
  },
  {
   "cell_type": "code",
   "execution_count": 100,
   "metadata": {},
   "outputs": [],
   "source": [
    "x=data[:, :-1]\n",
    "y=data[:, -1]\n",
    "scaler=preprocessing.StandardScaler()\n",
    "scaler.fit(x)\n",
    "x=scaler.transform(x)\n"
   ]
  },
  {
   "cell_type": "code",
   "execution_count": 101,
   "metadata": {},
   "outputs": [],
   "source": [
    "test_trans=scaler.transform(test_data)\n"
   ]
  },
  {
   "cell_type": "code",
   "execution_count": 102,
   "metadata": {},
   "outputs": [],
   "source": [
    "def predict(x, m, c):\n",
    "    N = x.shape[0]\n",
    "    y = np.zeros(N)\n",
    "    \n",
    "    for i in range(N):\n",
    "        X = x[i,:]\n",
    "        y[i] = (m * X).sum() + c\n",
    "        \n",
    "    return y"
   ]
  },
  {
   "cell_type": "code",
   "execution_count": 103,
   "metadata": {},
   "outputs": [],
   "source": [
    "x_test=test_trans"
   ]
  },
  {
   "cell_type": "code",
   "execution_count": 104,
   "metadata": {},
   "outputs": [],
   "source": [
    "y_pred = predict(x_test, m, c)"
   ]
  },
  {
   "cell_type": "code",
   "execution_count": 105,
   "metadata": {},
   "outputs": [
    {
     "data": {
      "text/plain": [
       "array([11.92492915, 28.73806034, 22.46978913, 24.69496178, 21.22541965,\n",
       "        3.24442824, 30.45580745, 25.14540461, 19.03527377, 23.85397239,\n",
       "       24.52319932, 18.10074622, 18.21255101, 21.79305345, 41.00801197,\n",
       "       24.18021607, 24.7551397 , 27.81929984, 20.67714454, 31.24679325,\n",
       "       23.98280403, 24.20015885, 32.9670881 , 35.75472161, 32.34619099,\n",
       "       16.36151828, 23.51148145, 33.03669775, 24.30383515, 33.07248545,\n",
       "       17.38898669, 26.24846943, 23.53994689, 25.46775854, 15.07134169,\n",
       "       29.54990486, 26.53293468, 20.74867394, 24.3976875 ,  9.80496508,\n",
       "        8.02001684, 29.15948019, 29.71733677, 19.60971959, 20.35222274,\n",
       "        3.31859032, 39.51252504, 25.67529356, 30.67019533, 16.95980427,\n",
       "       17.70670378, 40.74672934, 17.69248114, 21.28310939, 16.07640002,\n",
       "       21.87575897, 18.72553103, 23.62865557, 14.17448158, 17.24794713,\n",
       "       14.74335888, 28.93070091, 25.48262802, 25.79297003, 17.08333487,\n",
       "       17.25308518, 34.65698806, 17.12460928, 26.33088576, 22.46265438,\n",
       "       29.52288865, 26.32127383, 17.59850537,  5.76916141, 36.65743628,\n",
       "       25.46621647, 30.12482829, 27.43938166, 16.2152311 , 32.76955262,\n",
       "       19.34452855, 22.94184651, 23.01863212,  9.17046541, 17.43527116,\n",
       "       29.5795206 , 27.41464296,  6.12247955, 20.97170734, 19.97711356,\n",
       "       22.42693189, 20.87619639, 21.07282227, 13.62405935, 20.10959634,\n",
       "       25.61366135, 40.24726706, 18.91327378, 33.85537453, 27.18557096,\n",
       "       28.60977059, 22.08596592, 25.46428129, 31.55012623, 17.29171007,\n",
       "       26.519897  , 21.87432295, 37.00801563, 22.47163123, 16.5888235 ,\n",
       "       27.88176431,  0.25326929, 14.4779125 , 15.99695973, 36.0541423 ,\n",
       "       21.16187999, 21.22192843, 25.52639634, 22.27359968, 18.54419354,\n",
       "       14.06650499, 35.45897144, 23.13102442, 24.68283788, 18.37198787,\n",
       "       21.12110054, 14.57859039])"
      ]
     },
     "execution_count": 105,
     "metadata": {},
     "output_type": "execute_result"
    }
   ],
   "source": [
    "y_pred"
   ]
  },
  {
   "cell_type": "code",
   "execution_count": 106,
   "metadata": {},
   "outputs": [
    {
     "data": {
      "text/plain": [
       "22.95637083668366"
      ]
     },
     "execution_count": 106,
     "metadata": {},
     "output_type": "execute_result"
    }
   ],
   "source": [
    "y_pred.mean()"
   ]
  },
  {
   "cell_type": "code",
   "execution_count": 107,
   "metadata": {},
   "outputs": [],
   "source": [
    "np.savetxt(\"predictedbostontestdataset.csv\", y_pred, delimiter=',',fmt='%.5f')"
   ]
  },
  {
   "cell_type": "code",
   "execution_count": null,
   "metadata": {},
   "outputs": [],
   "source": []
  },
  {
   "cell_type": "code",
   "execution_count": null,
   "metadata": {},
   "outputs": [],
   "source": []
  },
  {
   "cell_type": "code",
   "execution_count": null,
   "metadata": {},
   "outputs": [],
   "source": []
  },
  {
   "cell_type": "code",
   "execution_count": null,
   "metadata": {},
   "outputs": [],
   "source": []
  },
  {
   "cell_type": "code",
   "execution_count": null,
   "metadata": {},
   "outputs": [],
   "source": []
  },
  {
   "cell_type": "code",
   "execution_count": null,
   "metadata": {},
   "outputs": [],
   "source": []
  },
  {
   "cell_type": "code",
   "execution_count": null,
   "metadata": {},
   "outputs": [],
   "source": []
  },
  {
   "cell_type": "code",
   "execution_count": null,
   "metadata": {},
   "outputs": [],
   "source": []
  },
  {
   "cell_type": "code",
   "execution_count": null,
   "metadata": {},
   "outputs": [],
   "source": []
  },
  {
   "cell_type": "code",
   "execution_count": null,
   "metadata": {},
   "outputs": [],
   "source": []
  },
  {
   "cell_type": "code",
   "execution_count": 300,
   "metadata": {},
   "outputs": [],
   "source": []
  }
 ],
 "metadata": {
  "kernelspec": {
   "display_name": "Python 3",
   "language": "python",
   "name": "python3"
  },
  "language_info": {
   "codemirror_mode": {
    "name": "ipython",
    "version": 3
   },
   "file_extension": ".py",
   "mimetype": "text/x-python",
   "name": "python",
   "nbconvert_exporter": "python",
   "pygments_lexer": "ipython3",
   "version": "3.8.3"
  }
 },
 "nbformat": 4,
 "nbformat_minor": 4
}
